{
 "cells": [
  {
   "cell_type": "code",
   "execution_count": 1,
   "metadata": {},
   "outputs": [],
   "source": [
    "import numpy as np"
   ]
  },
  {
   "cell_type": "code",
   "execution_count": 5,
   "metadata": {},
   "outputs": [
    {
     "data": {
      "text/plain": [
       "array([[0.5388596 , 0.56637606, 0.23891873],\n",
       "       [0.11255686, 0.48044045, 0.60019331]])"
      ]
     },
     "execution_count": 5,
     "metadata": {},
     "output_type": "execute_result"
    }
   ],
   "source": [
    "np.random.rand(2, 3)"
   ]
  },
  {
   "cell_type": "code",
   "execution_count": 6,
   "metadata": {},
   "outputs": [],
   "source": [
    "def generate_time_series(batch_size, n_steps):\n",
    "    freq1, freq2, offsets1, offsets2 = np.random.rand(4, batch_size, 1)\n",
    "    time = np.linspace(0, 1, n_steps)\n",
    "    series = 0.5 * np.sin((time - offsets1) * (freq1 * 10 + 10))  #   wave 1\n",
    "    series += 0.2 * np.sin((time - offsets2) * (freq2 * 20 + 20)) # + wave 2\n",
    "    series += 0.1 * (np.random.rand(batch_size, n_steps) - 0.5)   # + noise\n",
    "    return series[..., np.newaxis].astype(np.float32)"
   ]
  },
  {
   "cell_type": "code",
   "execution_count": 7,
   "metadata": {},
   "outputs": [
    {
     "data": {
      "text/plain": [
       "array([[[-0.3894029 ],\n",
       "        [ 0.16537021],\n",
       "        [ 0.34966087]],\n",
       "\n",
       "       [[-0.25434828],\n",
       "        [ 0.0692047 ],\n",
       "        [ 0.2940133 ]]], dtype=float32)"
      ]
     },
     "execution_count": 7,
     "metadata": {},
     "output_type": "execute_result"
    }
   ],
   "source": [
    "generate_time_series(2, 3)"
   ]
  },
  {
   "cell_type": "code",
   "execution_count": 8,
   "metadata": {},
   "outputs": [],
   "source": [
    "n_steps = 50\n",
    "series = generate_time_series(10000, n_steps + 1)\n",
    "X_train, y_train = series[:7000, :n_steps], series[:7000, -1]\n",
    "X_valid, y_valid = series[7000:9000, :n_steps], series[7000:9000, -1]\n",
    "X_test, y_test = series[9000:, :n_steps], series[9000:, -1]"
   ]
  },
  {
   "cell_type": "code",
   "execution_count": 9,
   "metadata": {},
   "outputs": [],
   "source": [
    "y_pred = X_valid[:, -1]"
   ]
  },
  {
   "cell_type": "code",
   "execution_count": 11,
   "metadata": {},
   "outputs": [],
   "source": [
    "from tensorflow import keras"
   ]
  },
  {
   "cell_type": "code",
   "execution_count": 12,
   "metadata": {},
   "outputs": [
    {
     "data": {
      "text/plain": [
       "0.019743096"
      ]
     },
     "execution_count": 12,
     "metadata": {},
     "output_type": "execute_result"
    }
   ],
   "source": [
    "np.mean(keras.losses.mean_squared_error(y_valid, y_pred))"
   ]
  },
  {
   "cell_type": "code",
   "execution_count": 13,
   "metadata": {},
   "outputs": [],
   "source": [
    "model = keras.models.Sequential([\n",
    "    keras.layers.Flatten(input_shape=[50, 1]),\n",
    "    keras.layers.Dense(1)\n",
    "])"
   ]
  },
  {
   "cell_type": "code",
   "execution_count": 14,
   "metadata": {},
   "outputs": [],
   "source": [
    "model.compile(loss='mse', optimizer='adam')"
   ]
  },
  {
   "cell_type": "code",
   "execution_count": 17,
   "metadata": {},
   "outputs": [
    {
     "name": "stdout",
     "output_type": "stream",
     "text": [
      "Train on 7000 samples\n",
      "Epoch 1/20\n",
      "7000/7000 [==============================] - 0s 22us/sample - loss: 0.0178\n",
      "Epoch 2/20\n",
      "7000/7000 [==============================] - 0s 19us/sample - loss: 0.0109\n",
      "Epoch 3/20\n",
      "7000/7000 [==============================] - 0s 20us/sample - loss: 0.0085\n",
      "Epoch 4/20\n",
      "7000/7000 [==============================] - 0s 20us/sample - loss: 0.0074\n",
      "Epoch 5/20\n",
      "7000/7000 [==============================] - 0s 20us/sample - loss: 0.0068\n",
      "Epoch 6/20\n",
      "7000/7000 [==============================] - 0s 19us/sample - loss: 0.0062\n",
      "Epoch 7/20\n",
      "7000/7000 [==============================] - 0s 19us/sample - loss: 0.0058\n",
      "Epoch 8/20\n",
      "7000/7000 [==============================] - 0s 19us/sample - loss: 0.0054\n",
      "Epoch 9/20\n",
      "7000/7000 [==============================] - 0s 19us/sample - loss: 0.0051\n",
      "Epoch 10/20\n",
      "7000/7000 [==============================] - 0s 19us/sample - loss: 0.0049\n",
      "Epoch 11/20\n",
      "7000/7000 [==============================] - 0s 19us/sample - loss: 0.0046\n",
      "Epoch 12/20\n",
      "7000/7000 [==============================] - 0s 19us/sample - loss: 0.0045\n",
      "Epoch 13/20\n",
      "7000/7000 [==============================] - 0s 19us/sample - loss: 0.0043\n",
      "Epoch 14/20\n",
      "7000/7000 [==============================] - 0s 19us/sample - loss: 0.0042\n",
      "Epoch 15/20\n",
      "7000/7000 [==============================] - 0s 19us/sample - loss: 0.0041\n",
      "Epoch 16/20\n",
      "7000/7000 [==============================] - 0s 19us/sample - loss: 0.0040\n",
      "Epoch 17/20\n",
      "7000/7000 [==============================] - 0s 19us/sample - loss: 0.0039\n",
      "Epoch 18/20\n",
      "7000/7000 [==============================] - 0s 19us/sample - loss: 0.0038\n",
      "Epoch 19/20\n",
      "7000/7000 [==============================] - 0s 19us/sample - loss: 0.0037\n",
      "Epoch 20/20\n",
      "7000/7000 [==============================] - 0s 19us/sample - loss: 0.0036\n"
     ]
    },
    {
     "data": {
      "text/plain": [
       "<tensorflow.python.keras.callbacks.History at 0x7fa2c81a19d0>"
      ]
     },
     "execution_count": 17,
     "metadata": {},
     "output_type": "execute_result"
    }
   ],
   "source": [
    "model.fit(X_train, y_train, epochs=20)"
   ]
  },
  {
   "cell_type": "code",
   "execution_count": 18,
   "metadata": {},
   "outputs": [
    {
     "name": "stdout",
     "output_type": "stream",
     "text": [
      "2000/2000 [==============================] - 0s 15us/sample - loss: 0.0036\n"
     ]
    },
    {
     "data": {
      "text/plain": [
       "0.0036009827218949795"
      ]
     },
     "execution_count": 18,
     "metadata": {},
     "output_type": "execute_result"
    }
   ],
   "source": [
    "model.evaluate(X_valid, y_valid)"
   ]
  },
  {
   "cell_type": "code",
   "execution_count": 19,
   "metadata": {},
   "outputs": [],
   "source": [
    "model = keras.models.Sequential([keras.layers.SimpleRNN(1, input_shape=[None, 1])])"
   ]
  },
  {
   "cell_type": "code",
   "execution_count": 20,
   "metadata": {},
   "outputs": [],
   "source": [
    "model.compile(loss='mse',  optimizer='adam')"
   ]
  },
  {
   "cell_type": "code",
   "execution_count": 21,
   "metadata": {},
   "outputs": [
    {
     "name": "stdout",
     "output_type": "stream",
     "text": [
      "Train on 7000 samples\n",
      "Epoch 1/20\n",
      "7000/7000 [==============================] - 2s 267us/sample - loss: 0.2913\n",
      "Epoch 2/20\n",
      "7000/7000 [==============================] - 1s 201us/sample - loss: 0.1735\n",
      "Epoch 3/20\n",
      "7000/7000 [==============================] - 1s 201us/sample - loss: 0.0834\n",
      "Epoch 4/20\n",
      "7000/7000 [==============================] - 1s 201us/sample - loss: 0.0454\n",
      "Epoch 5/20\n",
      "7000/7000 [==============================] - 1s 201us/sample - loss: 0.0352\n",
      "Epoch 6/20\n",
      "7000/7000 [==============================] - 1s 201us/sample - loss: 0.0317\n",
      "Epoch 7/20\n",
      "7000/7000 [==============================] - 1s 203us/sample - loss: 0.0293\n",
      "Epoch 8/20\n",
      "7000/7000 [==============================] - 1s 202us/sample - loss: 0.0272\n",
      "Epoch 9/20\n",
      "7000/7000 [==============================] - 1s 201us/sample - loss: 0.0253\n",
      "Epoch 10/20\n",
      "7000/7000 [==============================] - 1s 200us/sample - loss: 0.0235\n",
      "Epoch 11/20\n",
      "7000/7000 [==============================] - 1s 200us/sample - loss: 0.0220\n",
      "Epoch 12/20\n",
      "7000/7000 [==============================] - 1s 200us/sample - loss: 0.0206\n",
      "Epoch 13/20\n",
      "7000/7000 [==============================] - 1s 200us/sample - loss: 0.0194\n",
      "Epoch 14/20\n",
      "7000/7000 [==============================] - 1s 201us/sample - loss: 0.0183\n",
      "Epoch 15/20\n",
      "7000/7000 [==============================] - 1s 201us/sample - loss: 0.0173\n",
      "Epoch 16/20\n",
      "7000/7000 [==============================] - 1s 205us/sample - loss: 0.0164\n",
      "Epoch 17/20\n",
      "7000/7000 [==============================] - 1s 202us/sample - loss: 0.0156\n",
      "Epoch 18/20\n",
      "7000/7000 [==============================] - 1s 202us/sample - loss: 0.0149\n",
      "Epoch 19/20\n",
      "7000/7000 [==============================] - 1s 203us/sample - loss: 0.0143\n",
      "Epoch 20/20\n",
      "7000/7000 [==============================] - 1s 204us/sample - loss: 0.0137\n"
     ]
    },
    {
     "data": {
      "text/plain": [
       "<tensorflow.python.keras.callbacks.History at 0x7fa2d833e4d0>"
      ]
     },
     "execution_count": 21,
     "metadata": {},
     "output_type": "execute_result"
    }
   ],
   "source": [
    "model.fit(X_train, y_train, epochs=20)"
   ]
  },
  {
   "cell_type": "code",
   "execution_count": 22,
   "metadata": {},
   "outputs": [
    {
     "name": "stdout",
     "output_type": "stream",
     "text": [
      "2000/2000 [==============================] - 0s 99us/sample - loss: 0.0128\n"
     ]
    },
    {
     "data": {
      "text/plain": [
       "0.012811847500503064"
      ]
     },
     "execution_count": 22,
     "metadata": {},
     "output_type": "execute_result"
    }
   ],
   "source": [
    "model.evaluate(X_valid, y_valid)"
   ]
  },
  {
   "cell_type": "code",
   "execution_count": 23,
   "metadata": {},
   "outputs": [],
   "source": [
    "model = keras.models.Sequential([\n",
    "  keras.layers.SimpleRNN(20, return_sequences=True, input_shape=[None, 1]),\n",
    "  keras.layers.SimpleRNN(20, return_sequences=True),\n",
    "  keras.layers.SimpleRNN(1)\n",
    "])"
   ]
  },
  {
   "cell_type": "code",
   "execution_count": 24,
   "metadata": {},
   "outputs": [],
   "source": [
    "model.compile(loss='mse', optimizer='adam')"
   ]
  },
  {
   "cell_type": "code",
   "execution_count": 26,
   "metadata": {},
   "outputs": [
    {
     "name": "stdout",
     "output_type": "stream",
     "text": [
      "Train on 7000 samples\n",
      "Epoch 1/20\n",
      "7000/7000 [==============================] - 6s 868us/sample - loss: 0.0869\n",
      "Epoch 2/20\n",
      "7000/7000 [==============================] - 5s 702us/sample - loss: 0.0092\n",
      "Epoch 3/20\n",
      "7000/7000 [==============================] - 5s 690us/sample - loss: 0.0064\n",
      "Epoch 4/20\n",
      "7000/7000 [==============================] - 5s 689us/sample - loss: 0.0051\n",
      "Epoch 5/20\n",
      "7000/7000 [==============================] - 5s 686us/sample - loss: 0.0047\n",
      "Epoch 6/20\n",
      "7000/7000 [==============================] - 5s 693us/sample - loss: 0.0041\n",
      "Epoch 7/20\n",
      "7000/7000 [==============================] - 5s 687us/sample - loss: 0.0041\n",
      "Epoch 8/20\n",
      "7000/7000 [==============================] - 5s 690us/sample - loss: 0.0037\n",
      "Epoch 9/20\n",
      "7000/7000 [==============================] - 5s 689us/sample - loss: 0.0037\n",
      "Epoch 10/20\n",
      "7000/7000 [==============================] - 5s 692us/sample - loss: 0.0036\n",
      "Epoch 11/20\n",
      "7000/7000 [==============================] - 5s 701us/sample - loss: 0.0038\n",
      "Epoch 12/20\n",
      "7000/7000 [==============================] - 5s 695us/sample - loss: 0.0033\n",
      "Epoch 13/20\n",
      "7000/7000 [==============================] - 5s 701us/sample - loss: 0.0034\n",
      "Epoch 14/20\n",
      "7000/7000 [==============================] - 5s 692us/sample - loss: 0.0034\n",
      "Epoch 15/20\n",
      "7000/7000 [==============================] - 5s 700us/sample - loss: 0.0033\n",
      "Epoch 16/20\n",
      "7000/7000 [==============================] - 5s 693us/sample - loss: 0.0034\n",
      "Epoch 17/20\n",
      "7000/7000 [==============================] - 5s 703us/sample - loss: 0.0032\n",
      "Epoch 18/20\n",
      "7000/7000 [==============================] - 5s 695us/sample - loss: 0.0031\n",
      "Epoch 19/20\n",
      "7000/7000 [==============================] - 5s 695us/sample - loss: 0.0031\n",
      "Epoch 20/20\n",
      "7000/7000 [==============================] - 5s 696us/sample - loss: 0.0032\n"
     ]
    },
    {
     "data": {
      "text/plain": [
       "<tensorflow.python.keras.callbacks.History at 0x7fa2f8b7b390>"
      ]
     },
     "execution_count": 26,
     "metadata": {},
     "output_type": "execute_result"
    }
   ],
   "source": [
    "model.fit(X_train, y_train, epochs=20)"
   ]
  },
  {
   "cell_type": "code",
   "execution_count": 27,
   "metadata": {},
   "outputs": [
    {
     "name": "stdout",
     "output_type": "stream",
     "text": [
      "2000/2000 [==============================] - 1s 272us/sample - loss: 0.0037\n"
     ]
    },
    {
     "data": {
      "text/plain": [
       "0.0036893334835767745"
      ]
     },
     "execution_count": 27,
     "metadata": {},
     "output_type": "execute_result"
    }
   ],
   "source": [
    "model.evaluate(X_valid, y_valid)"
   ]
  },
  {
   "cell_type": "code",
   "execution_count": 28,
   "metadata": {},
   "outputs": [],
   "source": [
    "model = keras.models.Sequential([\n",
    "  keras.layers.SimpleRNN(20, return_sequences=True, input_shape=[None, 1]),\n",
    "  keras.layers.SimpleRNN(20),\n",
    "  keras.layers.Dense(1)\n",
    "])"
   ]
  },
  {
   "cell_type": "code",
   "execution_count": 29,
   "metadata": {},
   "outputs": [],
   "source": [
    "model.compile(loss='mse', optimizer='adam')"
   ]
  },
  {
   "cell_type": "code",
   "execution_count": 30,
   "metadata": {},
   "outputs": [
    {
     "name": "stdout",
     "output_type": "stream",
     "text": [
      "Train on 7000 samples\n",
      "Epoch 1/20\n",
      "7000/7000 [==============================] - 4s 634us/sample - loss: 0.0281\n",
      "Epoch 2/20\n",
      "7000/7000 [==============================] - 4s 503us/sample - loss: 0.0038\n",
      "Epoch 3/20\n",
      "7000/7000 [==============================] - 3s 499us/sample - loss: 0.0031\n",
      "Epoch 4/20\n",
      "7000/7000 [==============================] - 4s 502us/sample - loss: 0.0029\n",
      "Epoch 5/20\n",
      "7000/7000 [==============================] - 4s 512us/sample - loss: 0.0028\n",
      "Epoch 6/20\n",
      "7000/7000 [==============================] - 4s 508us/sample - loss: 0.0027\n",
      "Epoch 7/20\n",
      "7000/7000 [==============================] - 4s 511us/sample - loss: 0.0028\n",
      "Epoch 8/20\n",
      "7000/7000 [==============================] - 4s 509us/sample - loss: 0.0027\n",
      "Epoch 9/20\n",
      "7000/7000 [==============================] - 4s 513us/sample - loss: 0.0027\n",
      "Epoch 10/20\n",
      "7000/7000 [==============================] - 4s 512us/sample - loss: 0.0028\n",
      "Epoch 11/20\n",
      "7000/7000 [==============================] - 4s 508us/sample - loss: 0.0027\n",
      "Epoch 12/20\n",
      "7000/7000 [==============================] - 4s 515us/sample - loss: 0.0028\n",
      "Epoch 13/20\n",
      "7000/7000 [==============================] - 4s 534us/sample - loss: 0.0026\n",
      "Epoch 14/20\n",
      "7000/7000 [==============================] - 4s 547us/sample - loss: 0.0026\n",
      "Epoch 15/20\n",
      "7000/7000 [==============================] - 4s 515us/sample - loss: 0.0027\n",
      "Epoch 16/20\n",
      "7000/7000 [==============================] - 4s 516us/sample - loss: 0.0027\n",
      "Epoch 17/20\n",
      "7000/7000 [==============================] - 4s 510us/sample - loss: 0.0026\n",
      "Epoch 18/20\n",
      "7000/7000 [==============================] - 4s 512us/sample - loss: 0.0027\n",
      "Epoch 19/20\n",
      "7000/7000 [==============================] - 4s 512us/sample - loss: 0.0026\n",
      "Epoch 20/20\n",
      "7000/7000 [==============================] - 4s 508us/sample - loss: 0.0027\n"
     ]
    },
    {
     "data": {
      "text/plain": [
       "<tensorflow.python.keras.callbacks.History at 0x7fa30cd24ad0>"
      ]
     },
     "execution_count": 30,
     "metadata": {},
     "output_type": "execute_result"
    }
   ],
   "source": [
    "model.fit(X_train, y_train, epochs=20)"
   ]
  },
  {
   "cell_type": "code",
   "execution_count": 31,
   "metadata": {},
   "outputs": [
    {
     "name": "stdout",
     "output_type": "stream",
     "text": [
      "2000/2000 [==============================] - 0s 201us/sample - loss: 0.0031\n"
     ]
    },
    {
     "data": {
      "text/plain": [
       "0.003086167560890317"
      ]
     },
     "execution_count": 31,
     "metadata": {},
     "output_type": "execute_result"
    }
   ],
   "source": [
    "model.evaluate(X_valid, y_valid)"
   ]
  },
  {
   "cell_type": "code",
   "execution_count": 39,
   "metadata": {},
   "outputs": [
    {
     "data": {
      "text/plain": [
       "array([[ 0.27378106],\n",
       "       [-0.24866645],\n",
       "       [ 0.00606571],\n",
       "       ...,\n",
       "       [-0.39433086],\n",
       "       [ 0.32307187],\n",
       "       [-0.13639039]], dtype=float32)"
      ]
     },
     "execution_count": 39,
     "metadata": {},
     "output_type": "execute_result"
    }
   ],
   "source": [
    "y_valid"
   ]
  },
  {
   "cell_type": "code",
   "execution_count": 46,
   "metadata": {},
   "outputs": [
    {
     "data": {
      "text/plain": [
       "array([[ 0.51694375],\n",
       "       [ 0.32309222],\n",
       "       [ 0.06899191],\n",
       "       [-0.17287818],\n",
       "       [-0.34960714],\n",
       "       [-0.437975  ],\n",
       "       [-0.46142924],\n",
       "       [-0.4571522 ],\n",
       "       [-0.46907485],\n",
       "       [-0.5078362 ]], dtype=float32)"
      ]
     },
     "execution_count": 46,
     "metadata": {},
     "output_type": "execute_result"
    }
   ],
   "source": [
    "series = generate_time_series(1, n_steps + 10)\n",
    "X_new, Y_new = series[:, :n_steps], series[:, n_steps:]\n",
    "X = X_new\n",
    "for step_ahead in range(10):\n",
    "    y_pred_one = model.predict(X[:, step_ahead:])\n",
    "    y_pred_one = y_pred_one[:, np.newaxis, :]\n",
    "    X = np.concatenate([X, y_pred_one], axis=1)\n",
    "\n",
    "Y_pred = X[:, n_steps:]\n",
    "y_pred = np.squeeze(Y_pred, axis=0)\n",
    "y_pred"
   ]
  },
  {
   "cell_type": "code",
   "execution_count": 48,
   "metadata": {},
   "outputs": [],
   "source": [
    "series = generate_time_series(10000, n_steps + 10)\n",
    "X_train, Y_train = series[:7000, :n_steps], series[:7000, -10:, 0]\n",
    "X_valid, Y_valid = series[7000:9000, :n_steps], series[7000:9000, -10:, 0]\n",
    "X_test, Y_test = series[9000:, :n_steps], series[9000:, -10:, 0]"
   ]
  },
  {
   "cell_type": "code",
   "execution_count": 49,
   "metadata": {},
   "outputs": [],
   "source": [
    "model = keras.models.Sequential([\n",
    "    keras.layers.SimpleRNN(20, return_sequences=True, input_shape=[None, 1]),\n",
    "    keras.layers.SimpleRNN(20),\n",
    "    keras.layers.Dense(10)\n",
    "])"
   ]
  },
  {
   "cell_type": "code",
   "execution_count": 50,
   "metadata": {},
   "outputs": [],
   "source": [
    "model.compile(loss='mse', optimizer='adam')"
   ]
  },
  {
   "cell_type": "code",
   "execution_count": 52,
   "metadata": {},
   "outputs": [
    {
     "name": "stdout",
     "output_type": "stream",
     "text": [
      "Train on 7000 samples\n",
      "Epoch 1/20\n",
      "7000/7000 [==============================] - 5s 655us/sample - loss: 0.0594\n",
      "Epoch 2/20\n",
      "7000/7000 [==============================] - 4s 512us/sample - loss: 0.0276\n",
      "Epoch 3/20\n",
      "7000/7000 [==============================] - 4s 514us/sample - loss: 0.0208\n",
      "Epoch 4/20\n",
      "7000/7000 [==============================] - 4s 527us/sample - loss: 0.0175\n",
      "Epoch 5/20\n",
      "7000/7000 [==============================] - 4s 527us/sample - loss: 0.0147\n",
      "Epoch 6/20\n",
      "7000/7000 [==============================] - 4s 527us/sample - loss: 0.0126\n",
      "Epoch 7/20\n",
      "7000/7000 [==============================] - 4s 503us/sample - loss: 0.0118\n",
      "Epoch 8/20\n",
      "7000/7000 [==============================] - 4s 500us/sample - loss: 0.0108\n",
      "Epoch 9/20\n",
      "7000/7000 [==============================] - 3s 498us/sample - loss: 0.0103\n",
      "Epoch 10/20\n",
      "7000/7000 [==============================] - 3s 498us/sample - loss: 0.0103\n",
      "Epoch 11/20\n",
      "7000/7000 [==============================] - 3s 496us/sample - loss: 0.0097\n",
      "Epoch 12/20\n",
      "7000/7000 [==============================] - 4s 501us/sample - loss: 0.0095\n",
      "Epoch 13/20\n",
      "7000/7000 [==============================] - 3s 497us/sample - loss: 0.0097\n",
      "Epoch 14/20\n",
      "7000/7000 [==============================] - 3s 499us/sample - loss: 0.0095\n",
      "Epoch 15/20\n",
      "7000/7000 [==============================] - 3s 497us/sample - loss: 0.0093\n",
      "Epoch 16/20\n",
      "7000/7000 [==============================] - 4s 503us/sample - loss: 0.0091\n",
      "Epoch 17/20\n",
      "7000/7000 [==============================] - 4s 503us/sample - loss: 0.0089\n",
      "Epoch 18/20\n",
      "7000/7000 [==============================] - 3s 495us/sample - loss: 0.0089\n",
      "Epoch 19/20\n",
      "7000/7000 [==============================] - 3s 498us/sample - loss: 0.0089\n",
      "Epoch 20/20\n",
      "7000/7000 [==============================] - 3s 495us/sample - loss: 0.0088\n"
     ]
    },
    {
     "data": {
      "text/plain": [
       "<tensorflow.python.keras.callbacks.History at 0x7fa319441350>"
      ]
     },
     "execution_count": 52,
     "metadata": {},
     "output_type": "execute_result"
    }
   ],
   "source": [
    "model.fit(X_train, Y_train, epochs=20)"
   ]
  },
  {
   "cell_type": "code",
   "execution_count": 61,
   "metadata": {},
   "outputs": [],
   "source": [
    "model.evaluate(X_valid, Y_valid)"
   ]
  },
  {
   "cell_type": "code",
   "execution_count": 55,
   "metadata": {},
   "outputs": [],
   "source": [
    "Y = np.empty((10000, n_steps, 10)) # each target is a sequence of 10D vectors\n",
    "for step_ahead in range(1, 10 + 1):\n",
    "    Y[:, :, step_ahead - 1] = series[:, step_ahead:step_ahead + n_steps, 0]\n",
    "Y_train = Y[:7000]\n",
    "Y_valid = Y[7000:9000]\n",
    "Y_test = Y[9000:]"
   ]
  },
  {
   "cell_type": "code",
   "execution_count": 56,
   "metadata": {},
   "outputs": [],
   "source": [
    "model = keras.models.Sequential([\n",
    "    keras.layers.SimpleRNN(20, return_sequences=True, input_shape=[None, 1]),\n",
    "    keras.layers.SimpleRNN(20, return_sequences=True),\n",
    "    keras.layers.TimeDistributed(keras.layers.Dense(10))\n",
    "])"
   ]
  },
  {
   "cell_type": "code",
   "execution_count": 62,
   "metadata": {},
   "outputs": [],
   "source": [
    "def last_time_step_mse(Y_true, Y_pred):\n",
    "    return keras.metrics.mean_squared_error(Y_true[:, -1], Y_pred[:, -1])\n",
    "\n",
    "optimizer = keras.optimizers.Adam(lr=0.01)\n",
    "model.compile(loss=\"mse\", optimizer=optimizer, metrics=[last_time_step_mse])"
   ]
  },
  {
   "cell_type": "code",
   "execution_count": 63,
   "metadata": {},
   "outputs": [
    {
     "name": "stdout",
     "output_type": "stream",
     "text": [
      "Train on 7000 samples\n",
      "Epoch 1/20\n",
      "7000/7000 [==============================] - 4s 641us/sample - loss: 0.0401 - last_time_step_mse: 0.0307\n",
      "Epoch 2/20\n",
      "7000/7000 [==============================] - 4s 519us/sample - loss: 0.0284 - last_time_step_mse: 0.0172\n",
      "Epoch 3/20\n",
      "7000/7000 [==============================] - 4s 501us/sample - loss: 0.0264 - last_time_step_mse: 0.0149\n",
      "Epoch 4/20\n",
      "7000/7000 [==============================] - 4s 501us/sample - loss: 0.0236 - last_time_step_mse: 0.0111\n",
      "Epoch 5/20\n",
      "7000/7000 [==============================] - 4s 506us/sample - loss: 0.0222 - last_time_step_mse: 0.0098\n",
      "Epoch 6/20\n",
      "7000/7000 [==============================] - 4s 512us/sample - loss: 0.0216 - last_time_step_mse: 0.0090\n",
      "Epoch 7/20\n",
      "7000/7000 [==============================] - 4s 510us/sample - loss: 0.0217 - last_time_step_mse: 0.0095\n",
      "Epoch 8/20\n",
      "7000/7000 [==============================] - 4s 515us/sample - loss: 0.0207 - last_time_step_mse: 0.0084\n",
      "Epoch 9/20\n",
      "7000/7000 [==============================] - 4s 511us/sample - loss: 0.0206 - last_time_step_mse: 0.0084\n",
      "Epoch 10/20\n",
      "7000/7000 [==============================] - 4s 509us/sample - loss: 0.0205 - last_time_step_mse: 0.0084\n",
      "Epoch 11/20\n",
      "7000/7000 [==============================] - 4s 506us/sample - loss: 0.0197 - last_time_step_mse: 0.0077\n",
      "Epoch 12/20\n",
      "7000/7000 [==============================] - 4s 508us/sample - loss: 0.0196 - last_time_step_mse: 0.0076\n",
      "Epoch 13/20\n",
      "7000/7000 [==============================] - 4s 507us/sample - loss: 0.0196 - last_time_step_mse: 0.0080\n",
      "Epoch 14/20\n",
      "7000/7000 [==============================] - 4s 509us/sample - loss: 0.0192 - last_time_step_mse: 0.0075\n",
      "Epoch 15/20\n",
      "7000/7000 [==============================] - 4s 509us/sample - loss: 0.0191 - last_time_step_mse: 0.0074\n",
      "Epoch 16/20\n",
      "7000/7000 [==============================] - 4s 507us/sample - loss: 0.0193 - last_time_step_mse: 0.0079\n",
      "Epoch 17/20\n",
      "7000/7000 [==============================] - 4s 509us/sample - loss: 0.0190 - last_time_step_mse: 0.0076\n",
      "Epoch 18/20\n",
      "7000/7000 [==============================] - 4s 507us/sample - loss: 0.0187 - last_time_step_mse: 0.0074\n",
      "Epoch 19/20\n",
      "7000/7000 [==============================] - 4s 508us/sample - loss: 0.0188 - last_time_step_mse: 0.0075\n",
      "Epoch 20/20\n",
      "7000/7000 [==============================] - 4s 509us/sample - loss: 0.0179 - last_time_step_mse: 0.0067\n"
     ]
    },
    {
     "data": {
      "text/plain": [
       "<tensorflow.python.keras.callbacks.History at 0x7fa2f8e37a10>"
      ]
     },
     "execution_count": 63,
     "metadata": {},
     "output_type": "execute_result"
    }
   ],
   "source": [
    "model.fit(X_train, Y_train, epochs=20)"
   ]
  },
  {
   "cell_type": "code",
   "execution_count": 64,
   "metadata": {},
   "outputs": [
    {
     "name": "stdout",
     "output_type": "stream",
     "text": [
      "2000/2000 [==============================] - 0s 220us/sample - loss: 0.0182 - last_time_step_mse: 0.0063\n"
     ]
    },
    {
     "data": {
      "text/plain": [
       "[0.018220996141433715, 0.0063010585]"
      ]
     },
     "execution_count": 64,
     "metadata": {},
     "output_type": "execute_result"
    }
   ],
   "source": [
    "model.evaluate(X_valid, Y_valid)"
   ]
  },
  {
   "cell_type": "code",
   "execution_count": 65,
   "metadata": {},
   "outputs": [],
   "source": [
    "class LNSimpleRNNCell(keras.layers.Layer):\n",
    "  def __init__(self, units, activation='tanh', **kwargs):\n",
    "    super().__init__(**kwargs)\n",
    "    self.state_size = units\n",
    "    self.output_size = units\n",
    "    self.simple_rnn_cell = keras.layers.SimpleRNNCell(units, activation=None)\n",
    "    self.layer_norm = keras.layers.LayerNormalization()\n",
    "    self.activation = keras.activations.get(activation)\n",
    "  def call(self, inputs, states):\n",
    "    outputs, new_states = self.simple_rnn_cell(inputs, states)\n",
    "    norm_outputs = self.activation(self.layer_norm(outputs))\n",
    "    return norm_outputs, [norm_outputs]"
   ]
  },
  {
   "cell_type": "code",
   "execution_count": 66,
   "metadata": {},
   "outputs": [],
   "source": [
    "model = keras.models.Sequential([\n",
    "  keras.layers.RNN(LNSimpleRNNCell(20), return_sequences=True, input_shape=[None, 1]),\n",
    "  keras.layers.RNN(LNSimpleRNNCell(20), return_sequences=True),\n",
    "  keras.layers.TimeDistributed(keras.layers.Dense(10))\n",
    "])"
   ]
  },
  {
   "cell_type": "code",
   "execution_count": 69,
   "metadata": {},
   "outputs": [],
   "source": [
    "model.compile(loss=\"mse\", optimizer=optimizer, metrics=[last_time_step_mse])"
   ]
  },
  {
   "cell_type": "code",
   "execution_count": 70,
   "metadata": {},
   "outputs": [
    {
     "name": "stdout",
     "output_type": "stream",
     "text": [
      "Train on 7000 samples\n",
      "Epoch 1/20\n",
      "7000/7000 [==============================] - 9s 1ms/sample - loss: 0.0730 - last_time_step_mse: 0.0627\n",
      "Epoch 2/20\n",
      "7000/7000 [==============================] - 8s 1ms/sample - loss: 0.0424 - last_time_step_mse: 0.0335\n",
      "Epoch 3/20\n",
      "7000/7000 [==============================] - 8s 1ms/sample - loss: 0.0389 - last_time_step_mse: 0.0314\n",
      "Epoch 4/20\n",
      "7000/7000 [==============================] - 8s 1ms/sample - loss: 0.0331 - last_time_step_mse: 0.0235\n",
      "Epoch 5/20\n",
      "7000/7000 [==============================] - 8s 1ms/sample - loss: 0.0304 - last_time_step_mse: 0.0201\n",
      "Epoch 6/20\n",
      "7000/7000 [==============================] - 8s 1ms/sample - loss: 0.0278 - last_time_step_mse: 0.0175\n",
      "Epoch 7/20\n",
      "7000/7000 [==============================] - 8s 1ms/sample - loss: 0.0264 - last_time_step_mse: 0.0155\n",
      "Epoch 8/20\n",
      "7000/7000 [==============================] - 8s 1ms/sample - loss: 0.0251 - last_time_step_mse: 0.0136\n",
      "Epoch 9/20\n",
      "7000/7000 [==============================] - 8s 1ms/sample - loss: 0.0242 - last_time_step_mse: 0.0128\n",
      "Epoch 10/20\n",
      "7000/7000 [==============================] - 8s 1ms/sample - loss: 0.0226 - last_time_step_mse: 0.0106\n",
      "Epoch 11/20\n",
      "7000/7000 [==============================] - 8s 1ms/sample - loss: 0.0216 - last_time_step_mse: 0.0095\n",
      "Epoch 12/20\n",
      "7000/7000 [==============================] - 8s 1ms/sample - loss: 0.0217 - last_time_step_mse: 0.0098\n",
      "Epoch 13/20\n",
      "7000/7000 [==============================] - 7s 1ms/sample - loss: 0.0209 - last_time_step_mse: 0.0090\n",
      "Epoch 14/20\n",
      "7000/7000 [==============================] - 7s 1ms/sample - loss: 0.0205 - last_time_step_mse: 0.0085\n",
      "Epoch 15/20\n",
      "7000/7000 [==============================] - 7s 1ms/sample - loss: 0.0201 - last_time_step_mse: 0.0081\n",
      "Epoch 16/20\n",
      "7000/7000 [==============================] - 8s 1ms/sample - loss: 0.0197 - last_time_step_mse: 0.0075\n",
      "Epoch 17/20\n",
      "7000/7000 [==============================] - 8s 1ms/sample - loss: 0.0196 - last_time_step_mse: 0.0076\n",
      "Epoch 18/20\n",
      "7000/7000 [==============================] - 8s 1ms/sample - loss: 0.0195 - last_time_step_mse: 0.0076\n",
      "Epoch 19/20\n",
      "7000/7000 [==============================] - 8s 1ms/sample - loss: 0.0190 - last_time_step_mse: 0.0070\n",
      "Epoch 20/20\n",
      "7000/7000 [==============================] - 8s 1ms/sample - loss: 0.0190 - last_time_step_mse: 0.0070\n"
     ]
    },
    {
     "data": {
      "text/plain": [
       "<tensorflow.python.keras.callbacks.History at 0x7fa319ae2310>"
      ]
     },
     "execution_count": 70,
     "metadata": {},
     "output_type": "execute_result"
    }
   ],
   "source": [
    "model.fit(X_train, Y_train, epochs=20)"
   ]
  },
  {
   "cell_type": "code",
   "execution_count": 71,
   "metadata": {},
   "outputs": [
    {
     "name": "stdout",
     "output_type": "stream",
     "text": [
      "2000/2000 [==============================] - 1s 373us/sample - loss: 0.0185 - last_time_step_mse: 0.0067\n"
     ]
    },
    {
     "data": {
      "text/plain": [
       "[0.018503552824258803, 0.0067459494]"
      ]
     },
     "execution_count": 71,
     "metadata": {},
     "output_type": "execute_result"
    }
   ],
   "source": [
    "model.evaluate(X_valid, Y_valid)"
   ]
  },
  {
   "cell_type": "code",
   "execution_count": 72,
   "metadata": {},
   "outputs": [],
   "source": [
    "model = keras.models.Sequential([\n",
    "  keras.layers.LSTM(20, return_sequences=True, input_shape=[None, 1]),\n",
    "  keras.layers.LSTM(20, return_sequences=True),\n",
    "  keras.layers.TimeDistributed(keras.layers.Dense(10))\n",
    "])"
   ]
  },
  {
   "cell_type": "code",
   "execution_count": 73,
   "metadata": {},
   "outputs": [],
   "source": [
    "model.compile(loss=\"mse\", optimizer=optimizer, metrics=[last_time_step_mse])"
   ]
  },
  {
   "cell_type": "code",
   "execution_count": 75,
   "metadata": {},
   "outputs": [
    {
     "name": "stdout",
     "output_type": "stream",
     "text": [
      "Train on 7000 samples\n",
      "Epoch 1/20\n",
      "7000/7000 [==============================] - 7s 943us/sample - loss: 0.0222 - last_time_step_mse: 0.0089\n",
      "Epoch 2/20\n",
      "7000/7000 [==============================] - 7s 956us/sample - loss: 0.0182 - last_time_step_mse: 0.0055\n",
      "Epoch 3/20\n",
      "7000/7000 [==============================] - 7s 958us/sample - loss: 0.0168 - last_time_step_mse: 0.0049\n",
      "Epoch 4/20\n",
      "7000/7000 [==============================] - 7s 957us/sample - loss: 0.0159 - last_time_step_mse: 0.0043\n",
      "Epoch 5/20\n",
      "7000/7000 [==============================] - 7s 959us/sample - loss: 0.0153 - last_time_step_mse: 0.0039\n",
      "Epoch 6/20\n",
      "7000/7000 [==============================] - 7s 949us/sample - loss: 0.0149 - last_time_step_mse: 0.0036\n",
      "Epoch 7/20\n",
      "7000/7000 [==============================] - 7s 947us/sample - loss: 0.0147 - last_time_step_mse: 0.0036\n",
      "Epoch 8/20\n",
      "7000/7000 [==============================] - 7s 948us/sample - loss: 0.0144 - last_time_step_mse: 0.0034\n",
      "Epoch 9/20\n",
      "7000/7000 [==============================] - 7s 949us/sample - loss: 0.0142 - last_time_step_mse: 0.0033\n",
      "Epoch 10/20\n",
      "7000/7000 [==============================] - 7s 953us/sample - loss: 0.0141 - last_time_step_mse: 0.0032\n",
      "Epoch 11/20\n",
      "7000/7000 [==============================] - 7s 950us/sample - loss: 0.0138 - last_time_step_mse: 0.0030\n",
      "Epoch 12/20\n",
      "7000/7000 [==============================] - 7s 948us/sample - loss: 0.0138 - last_time_step_mse: 0.0030\n",
      "Epoch 13/20\n",
      "7000/7000 [==============================] - 7s 951us/sample - loss: 0.0135 - last_time_step_mse: 0.0029\n",
      "Epoch 14/20\n",
      "7000/7000 [==============================] - 7s 946us/sample - loss: 0.0135 - last_time_step_mse: 0.0028\n",
      "Epoch 15/20\n",
      "7000/7000 [==============================] - 7s 948us/sample - loss: 0.0134 - last_time_step_mse: 0.0029\n",
      "Epoch 16/20\n",
      "7000/7000 [==============================] - 7s 950us/sample - loss: 0.0133 - last_time_step_mse: 0.0027\n",
      "Epoch 17/20\n",
      "7000/7000 [==============================] - 7s 960us/sample - loss: 0.0132 - last_time_step_mse: 0.0027\n",
      "Epoch 18/20\n",
      "7000/7000 [==============================] - 7s 952us/sample - loss: 0.0132 - last_time_step_mse: 0.0027\n",
      "Epoch 19/20\n",
      "7000/7000 [==============================] - 7s 946us/sample - loss: 0.0131 - last_time_step_mse: 0.0026\n",
      "Epoch 20/20\n",
      "7000/7000 [==============================] - 7s 948us/sample - loss: 0.0130 - last_time_step_mse: 0.0026\n"
     ]
    },
    {
     "data": {
      "text/plain": [
       "<tensorflow.python.keras.callbacks.History at 0x7fa2f8ced390>"
      ]
     },
     "execution_count": 75,
     "metadata": {},
     "output_type": "execute_result"
    }
   ],
   "source": [
    "model.fit(X_train, Y_train, epochs=20)"
   ]
  },
  {
   "cell_type": "code",
   "execution_count": 76,
   "metadata": {},
   "outputs": [
    {
     "name": "stdout",
     "output_type": "stream",
     "text": [
      "2000/2000 [==============================] - 1s 398us/sample - loss: 0.0129 - last_time_step_mse: 0.0026\n"
     ]
    },
    {
     "data": {
      "text/plain": [
       "[0.012915359266102313, 0.002593813]"
      ]
     },
     "execution_count": 76,
     "metadata": {},
     "output_type": "execute_result"
    }
   ],
   "source": [
    "model.evaluate(X_valid, Y_valid)"
   ]
  },
  {
   "cell_type": "code",
   "execution_count": 77,
   "metadata": {},
   "outputs": [
    {
     "name": "stdout",
     "output_type": "stream",
     "text": [
      "Train on 7000 samples\n",
      "Epoch 1/20\n",
      "7000/7000 [==============================] - 8s 1ms/sample - loss: 0.0410 - last_time_step_mse: 0.0284\n",
      "Epoch 2/20\n",
      "7000/7000 [==============================] - 6s 922us/sample - loss: 0.0218 - last_time_step_mse: 0.0081\n",
      "Epoch 3/20\n",
      "7000/7000 [==============================] - 6s 911us/sample - loss: 0.0176 - last_time_step_mse: 0.0050\n",
      "Epoch 4/20\n",
      "7000/7000 [==============================] - 6s 913us/sample - loss: 0.0163 - last_time_step_mse: 0.0041\n",
      "Epoch 5/20\n",
      "7000/7000 [==============================] - 6s 914us/sample - loss: 0.0155 - last_time_step_mse: 0.0037\n",
      "Epoch 6/20\n",
      "7000/7000 [==============================] - 6s 914us/sample - loss: 0.0151 - last_time_step_mse: 0.0036\n",
      "Epoch 7/20\n",
      "7000/7000 [==============================] - 6s 913us/sample - loss: 0.0147 - last_time_step_mse: 0.0033\n",
      "Epoch 8/20\n",
      "7000/7000 [==============================] - 6s 909us/sample - loss: 0.0144 - last_time_step_mse: 0.0032\n",
      "Epoch 9/20\n",
      "7000/7000 [==============================] - 6s 908us/sample - loss: 0.0142 - last_time_step_mse: 0.0032\n",
      "Epoch 10/20\n",
      "7000/7000 [==============================] - 6s 911us/sample - loss: 0.0140 - last_time_step_mse: 0.0030\n",
      "Epoch 11/20\n",
      "7000/7000 [==============================] - 6s 915us/sample - loss: 0.0138 - last_time_step_mse: 0.0030\n",
      "Epoch 12/20\n",
      "7000/7000 [==============================] - 6s 915us/sample - loss: 0.0138 - last_time_step_mse: 0.0030\n",
      "Epoch 13/20\n",
      "7000/7000 [==============================] - 6s 921us/sample - loss: 0.0136 - last_time_step_mse: 0.0029\n",
      "Epoch 14/20\n",
      "7000/7000 [==============================] - 6s 915us/sample - loss: 0.0135 - last_time_step_mse: 0.0028\n",
      "Epoch 15/20\n",
      "7000/7000 [==============================] - 6s 913us/sample - loss: 0.0134 - last_time_step_mse: 0.0028\n",
      "Epoch 16/20\n",
      "7000/7000 [==============================] - 6s 922us/sample - loss: 0.0134 - last_time_step_mse: 0.0028\n",
      "Epoch 17/20\n",
      "7000/7000 [==============================] - 6s 917us/sample - loss: 0.0133 - last_time_step_mse: 0.0027\n",
      "Epoch 18/20\n",
      "7000/7000 [==============================] - 6s 917us/sample - loss: 0.0132 - last_time_step_mse: 0.0027\n",
      "Epoch 19/20\n",
      "7000/7000 [==============================] - 6s 912us/sample - loss: 0.0131 - last_time_step_mse: 0.0027\n",
      "Epoch 20/20\n",
      "7000/7000 [==============================] - 6s 913us/sample - loss: 0.0130 - last_time_step_mse: 0.0025\n",
      "2000/2000 [==============================] - 1s 287us/sample - loss: 0.0130 - last_time_step_mse: 0.0025\n"
     ]
    },
    {
     "data": {
      "text/plain": [
       "[0.013043267056345939, 0.0025345671]"
      ]
     },
     "execution_count": 77,
     "metadata": {},
     "output_type": "execute_result"
    }
   ],
   "source": [
    "model = keras.models.Sequential([\n",
    "    keras.layers.RNN(keras.layers.LSTMCell(20), return_sequences=True,\n",
    "                     input_shape=[None, 1]),\n",
    "    keras.layers.RNN(keras.layers.LSTMCell(20), return_sequences=True),\n",
    "    keras.layers.TimeDistributed(keras.layers.Dense(10))\n",
    "])\n",
    "model.compile(loss=\"mse\", optimizer=optimizer, metrics=[last_time_step_mse])\n",
    "model.fit(X_train, Y_train, epochs=20)\n",
    "model.evaluate(X_valid, Y_valid)"
   ]
  },
  {
   "cell_type": "code",
   "execution_count": 78,
   "metadata": {},
   "outputs": [
    {
     "name": "stdout",
     "output_type": "stream",
     "text": [
      "Train on 7000 samples\n",
      "Epoch 1/20\n",
      "7000/7000 [==============================] - 21s 3ms/sample - loss: 0.0428 - last_time_step_mse: 0.0309\n",
      "Epoch 2/20\n",
      "7000/7000 [==============================] - 17s 2ms/sample - loss: 0.0237 - last_time_step_mse: 0.0101\n",
      "Epoch 3/20\n",
      "7000/7000 [==============================] - 17s 2ms/sample - loss: 0.0186 - last_time_step_mse: 0.0056\n",
      "Epoch 4/20\n",
      "7000/7000 [==============================] - 18s 3ms/sample - loss: 0.0168 - last_time_step_mse: 0.0046\n",
      "Epoch 5/20\n",
      "7000/7000 [==============================] - 18s 3ms/sample - loss: 0.0159 - last_time_step_mse: 0.0040\n",
      "Epoch 6/20\n",
      "7000/7000 [==============================] - 18s 3ms/sample - loss: 0.0154 - last_time_step_mse: 0.0038\n",
      "Epoch 7/20\n",
      "7000/7000 [==============================] - 18s 3ms/sample - loss: 0.0149 - last_time_step_mse: 0.0035\n",
      "Epoch 8/20\n",
      "7000/7000 [==============================] - 18s 3ms/sample - loss: 0.0146 - last_time_step_mse: 0.0034\n",
      "Epoch 9/20\n",
      "7000/7000 [==============================] - 18s 3ms/sample - loss: 0.0141 - last_time_step_mse: 0.0031\n",
      "Epoch 10/20\n",
      "7000/7000 [==============================] - 18s 3ms/sample - loss: 0.0140 - last_time_step_mse: 0.0031\n",
      "Epoch 11/20\n",
      "7000/7000 [==============================] - 18s 3ms/sample - loss: 0.0139 - last_time_step_mse: 0.0031\n",
      "Epoch 12/20\n",
      "7000/7000 [==============================] - 18s 3ms/sample - loss: 0.0137 - last_time_step_mse: 0.0031\n",
      "Epoch 13/20\n",
      "7000/7000 [==============================] - 18s 3ms/sample - loss: 0.0136 - last_time_step_mse: 0.0030\n",
      "Epoch 14/20\n",
      "7000/7000 [==============================] - 18s 3ms/sample - loss: 0.0136 - last_time_step_mse: 0.0030\n",
      "Epoch 15/20\n",
      "7000/7000 [==============================] - 18s 3ms/sample - loss: 0.0133 - last_time_step_mse: 0.0028\n",
      "Epoch 16/20\n",
      "7000/7000 [==============================] - 18s 3ms/sample - loss: 0.0133 - last_time_step_mse: 0.0028\n",
      "Epoch 17/20\n",
      "7000/7000 [==============================] - 18s 3ms/sample - loss: 0.0131 - last_time_step_mse: 0.0027\n",
      "Epoch 18/20\n",
      "7000/7000 [==============================] - 17s 2ms/sample - loss: 0.0131 - last_time_step_mse: 0.0028\n",
      "Epoch 19/20\n",
      "7000/7000 [==============================] - 17s 2ms/sample - loss: 0.0130 - last_time_step_mse: 0.0027\n",
      "Epoch 20/20\n",
      "7000/7000 [==============================] - 17s 2ms/sample - loss: 0.0130 - last_time_step_mse: 0.0027\n",
      "2000/2000 [==============================] - 1s 563us/sample - loss: 0.0129 - last_time_step_mse: 0.0027\n"
     ]
    },
    {
     "data": {
      "text/plain": [
       "[0.01285066568106413, 0.0027298399]"
      ]
     },
     "execution_count": 78,
     "metadata": {},
     "output_type": "execute_result"
    }
   ],
   "source": [
    "model = keras.models.Sequential([\n",
    "    keras.layers.RNN(keras.experimental.PeepholeLSTMCell(20), return_sequences=True,\n",
    "                     input_shape=[None, 1]),\n",
    "    keras.layers.RNN(keras.experimental.PeepholeLSTMCell(20), return_sequences=True),\n",
    "    keras.layers.TimeDistributed(keras.layers.Dense(10))\n",
    "])\n",
    "model.compile(loss=\"mse\", optimizer=optimizer, metrics=[last_time_step_mse])\n",
    "model.fit(X_train, Y_train, epochs=20)\n",
    "model.evaluate(X_valid, Y_valid)"
   ]
  },
  {
   "cell_type": "code",
   "execution_count": 79,
   "metadata": {},
   "outputs": [
    {
     "name": "stdout",
     "output_type": "stream",
     "text": [
      "Train on 7000 samples, validate on 2000 samples\n",
      "Epoch 1/20\n",
      "7000/7000 [==============================] - 7s 929us/sample - loss: 0.0687 - last_time_step_mse: 0.0611 - val_loss: 0.0482 - val_last_time_step_mse: 0.0407\n",
      "Epoch 2/20\n",
      "7000/7000 [==============================] - 4s 606us/sample - loss: 0.0395 - last_time_step_mse: 0.0322 - val_loss: 0.0347 - val_last_time_step_mse: 0.0264\n",
      "Epoch 3/20\n",
      "7000/7000 [==============================] - 4s 612us/sample - loss: 0.0318 - last_time_step_mse: 0.0236 - val_loss: 0.0290 - val_last_time_step_mse: 0.0202\n",
      "Epoch 4/20\n",
      "7000/7000 [==============================] - 4s 614us/sample - loss: 0.0274 - last_time_step_mse: 0.0177 - val_loss: 0.0256 - val_last_time_step_mse: 0.0153\n",
      "Epoch 5/20\n",
      "7000/7000 [==============================] - 4s 619us/sample - loss: 0.0250 - last_time_step_mse: 0.0147 - val_loss: 0.0239 - val_last_time_step_mse: 0.0134\n",
      "Epoch 6/20\n",
      "7000/7000 [==============================] - 4s 619us/sample - loss: 0.0236 - last_time_step_mse: 0.0133 - val_loss: 0.0230 - val_last_time_step_mse: 0.0126\n",
      "Epoch 7/20\n",
      "7000/7000 [==============================] - 4s 621us/sample - loss: 0.0227 - last_time_step_mse: 0.0122 - val_loss: 0.0219 - val_last_time_step_mse: 0.0115\n",
      "Epoch 8/20\n",
      "7000/7000 [==============================] - 4s 618us/sample - loss: 0.0219 - last_time_step_mse: 0.0115 - val_loss: 0.0216 - val_last_time_step_mse: 0.0111\n",
      "Epoch 9/20\n",
      "7000/7000 [==============================] - 4s 615us/sample - loss: 0.0215 - last_time_step_mse: 0.0111 - val_loss: 0.0209 - val_last_time_step_mse: 0.0104\n",
      "Epoch 10/20\n",
      "7000/7000 [==============================] - 4s 613us/sample - loss: 0.0210 - last_time_step_mse: 0.0106 - val_loss: 0.0207 - val_last_time_step_mse: 0.0105\n",
      "Epoch 11/20\n",
      "7000/7000 [==============================] - 4s 611us/sample - loss: 0.0207 - last_time_step_mse: 0.0103 - val_loss: 0.0201 - val_last_time_step_mse: 0.0097\n",
      "Epoch 12/20\n",
      "7000/7000 [==============================] - 4s 610us/sample - loss: 0.0204 - last_time_step_mse: 0.0100 - val_loss: 0.0200 - val_last_time_step_mse: 0.0097\n",
      "Epoch 13/20\n",
      "7000/7000 [==============================] - 4s 612us/sample - loss: 0.0201 - last_time_step_mse: 0.0098 - val_loss: 0.0198 - val_last_time_step_mse: 0.0096\n",
      "Epoch 14/20\n",
      "7000/7000 [==============================] - 4s 611us/sample - loss: 0.0199 - last_time_step_mse: 0.0095 - val_loss: 0.0195 - val_last_time_step_mse: 0.0093\n",
      "Epoch 15/20\n",
      "7000/7000 [==============================] - 4s 612us/sample - loss: 0.0197 - last_time_step_mse: 0.0094 - val_loss: 0.0195 - val_last_time_step_mse: 0.0091\n",
      "Epoch 16/20\n",
      "7000/7000 [==============================] - 4s 612us/sample - loss: 0.0196 - last_time_step_mse: 0.0094 - val_loss: 0.0192 - val_last_time_step_mse: 0.0089\n",
      "Epoch 17/20\n",
      "7000/7000 [==============================] - 4s 615us/sample - loss: 0.0193 - last_time_step_mse: 0.0090 - val_loss: 0.0190 - val_last_time_step_mse: 0.0087\n",
      "Epoch 18/20\n",
      "7000/7000 [==============================] - 4s 614us/sample - loss: 0.0192 - last_time_step_mse: 0.0091 - val_loss: 0.0189 - val_last_time_step_mse: 0.0090\n",
      "Epoch 19/20\n",
      "7000/7000 [==============================] - 4s 615us/sample - loss: 0.0189 - last_time_step_mse: 0.0088 - val_loss: 0.0185 - val_last_time_step_mse: 0.0084\n",
      "Epoch 20/20\n",
      "7000/7000 [==============================] - 4s 611us/sample - loss: 0.0187 - last_time_step_mse: 0.0087 - val_loss: 0.0184 - val_last_time_step_mse: 0.0084\n"
     ]
    }
   ],
   "source": [
    "model = keras.models.Sequential([\n",
    "    keras.layers.Conv1D(filters=20, kernel_size=4, strides=2, padding=\"valid\",\n",
    "                        input_shape=[None, 1]),\n",
    "    keras.layers.GRU(20, return_sequences=True),\n",
    "    keras.layers.GRU(20, return_sequences=True),\n",
    "    keras.layers.TimeDistributed(keras.layers.Dense(10))\n",
    "])\n",
    "\n",
    "model.compile(loss=\"mse\", optimizer=\"adam\", metrics=[last_time_step_mse])\n",
    "history = model.fit(X_train, Y_train[:, 3::2], epochs=20,\n",
    "                    validation_data=(X_valid, Y_valid[:, 3::2]))"
   ]
  },
  {
   "cell_type": "code",
   "execution_count": 80,
   "metadata": {},
   "outputs": [
    {
     "name": "stdout",
     "output_type": "stream",
     "text": [
      "Train on 7000 samples, validate on 2000 samples\n",
      "Epoch 1/20\n",
      "7000/7000 [==============================] - 2s 296us/sample - loss: 0.0675 - last_time_step_mse: 0.0556 - val_loss: 0.0379 - val_last_time_step_mse: 0.0250\n",
      "Epoch 2/20\n",
      "7000/7000 [==============================] - 1s 196us/sample - loss: 0.0344 - last_time_step_mse: 0.0215 - val_loss: 0.0317 - val_last_time_step_mse: 0.0199\n",
      "Epoch 3/20\n",
      "7000/7000 [==============================] - 1s 214us/sample - loss: 0.0304 - last_time_step_mse: 0.0180 - val_loss: 0.0294 - val_last_time_step_mse: 0.0171\n",
      "Epoch 4/20\n",
      "7000/7000 [==============================] - 2s 219us/sample - loss: 0.0280 - last_time_step_mse: 0.0159 - val_loss: 0.0270 - val_last_time_step_mse: 0.0150\n",
      "Epoch 5/20\n",
      "7000/7000 [==============================] - 1s 214us/sample - loss: 0.0264 - last_time_step_mse: 0.0146 - val_loss: 0.0252 - val_last_time_step_mse: 0.0136\n",
      "Epoch 6/20\n",
      "7000/7000 [==============================] - 1s 211us/sample - loss: 0.0254 - last_time_step_mse: 0.0137 - val_loss: 0.0249 - val_last_time_step_mse: 0.0133\n",
      "Epoch 7/20\n",
      "7000/7000 [==============================] - 1s 212us/sample - loss: 0.0246 - last_time_step_mse: 0.0131 - val_loss: 0.0240 - val_last_time_step_mse: 0.0123\n",
      "Epoch 8/20\n",
      "7000/7000 [==============================] - 1s 213us/sample - loss: 0.0243 - last_time_step_mse: 0.0130 - val_loss: 0.0234 - val_last_time_step_mse: 0.0119\n",
      "Epoch 9/20\n",
      "7000/7000 [==============================] - 2s 216us/sample - loss: 0.0239 - last_time_step_mse: 0.0126 - val_loss: 0.0236 - val_last_time_step_mse: 0.0129\n",
      "Epoch 10/20\n",
      "7000/7000 [==============================] - 2s 217us/sample - loss: 0.0233 - last_time_step_mse: 0.0121 - val_loss: 0.0231 - val_last_time_step_mse: 0.0118\n",
      "Epoch 11/20\n",
      "7000/7000 [==============================] - 1s 214us/sample - loss: 0.0230 - last_time_step_mse: 0.0117 - val_loss: 0.0225 - val_last_time_step_mse: 0.0116\n",
      "Epoch 12/20\n",
      "7000/7000 [==============================] - 1s 214us/sample - loss: 0.0226 - last_time_step_mse: 0.0113 - val_loss: 0.0221 - val_last_time_step_mse: 0.0109\n",
      "Epoch 13/20\n",
      "7000/7000 [==============================] - 2s 218us/sample - loss: 0.0222 - last_time_step_mse: 0.0109 - val_loss: 0.0217 - val_last_time_step_mse: 0.0104\n",
      "Epoch 14/20\n",
      "7000/7000 [==============================] - 2s 217us/sample - loss: 0.0218 - last_time_step_mse: 0.0106 - val_loss: 0.0211 - val_last_time_step_mse: 0.0098\n",
      "Epoch 15/20\n",
      "7000/7000 [==============================] - 2s 216us/sample - loss: 0.0215 - last_time_step_mse: 0.0101 - val_loss: 0.0209 - val_last_time_step_mse: 0.0094\n",
      "Epoch 16/20\n",
      "7000/7000 [==============================] - 2s 218us/sample - loss: 0.0211 - last_time_step_mse: 0.0097 - val_loss: 0.0209 - val_last_time_step_mse: 0.0095\n",
      "Epoch 17/20\n",
      "7000/7000 [==============================] - 2s 224us/sample - loss: 0.0208 - last_time_step_mse: 0.0095 - val_loss: 0.0201 - val_last_time_step_mse: 0.0087\n",
      "Epoch 18/20\n",
      "7000/7000 [==============================] - 2s 221us/sample - loss: 0.0204 - last_time_step_mse: 0.0089 - val_loss: 0.0199 - val_last_time_step_mse: 0.0084\n",
      "Epoch 19/20\n",
      "7000/7000 [==============================] - 2s 217us/sample - loss: 0.0202 - last_time_step_mse: 0.0087 - val_loss: 0.0209 - val_last_time_step_mse: 0.0103\n",
      "Epoch 20/20\n",
      "7000/7000 [==============================] - 2s 223us/sample - loss: 0.0199 - last_time_step_mse: 0.0084 - val_loss: 0.0195 - val_last_time_step_mse: 0.0082\n"
     ]
    }
   ],
   "source": [
    "model = keras.models.Sequential()\n",
    "model.add(keras.layers.InputLayer(input_shape=[None, 1]))\n",
    "for rate in (1, 2, 4, 8) * 2:\n",
    "    model.add(keras.layers.Conv1D(filters=20, kernel_size=2, padding=\"causal\",\n",
    "                                  activation=\"relu\", dilation_rate=rate))\n",
    "model.add(keras.layers.Conv1D(filters=10, kernel_size=1))\n",
    "model.compile(loss=\"mse\", optimizer=\"adam\", metrics=[last_time_step_mse])\n",
    "history = model.fit(X_train, Y_train, epochs=20,\n",
    "                    validation_data=(X_valid, Y_valid))"
   ]
  },
  {
   "cell_type": "code",
   "execution_count": null,
   "metadata": {},
   "outputs": [],
   "source": []
  }
 ],
 "metadata": {
  "kernelspec": {
   "display_name": "tensorflow2",
   "language": "python",
   "name": "tensorflow2"
  },
  "language_info": {
   "codemirror_mode": {
    "name": "ipython",
    "version": 3
   },
   "file_extension": ".py",
   "mimetype": "text/x-python",
   "name": "python",
   "nbconvert_exporter": "python",
   "pygments_lexer": "ipython3",
   "version": "3.7.6"
  }
 },
 "nbformat": 4,
 "nbformat_minor": 4
}
